{
 "cells": [
  {
   "cell_type": "code",
   "execution_count": 1,
   "metadata": {},
   "outputs": [
    {
     "name": "stderr",
     "output_type": "stream",
     "text": [
      "/Users/kyletopasna/anaconda/lib/python3.6/site-packages/h5py/__init__.py:36: FutureWarning: Conversion of the second argument of issubdtype from `float` to `np.floating` is deprecated. In future, it will be treated as `np.float64 == np.dtype(float).type`.\n",
      "  from ._conv import register_converters as _register_converters\n",
      "Using TensorFlow backend.\n"
     ]
    },
    {
     "data": {
      "text/html": [
       "<script>requirejs.config({paths: { 'plotly': ['https://cdn.plot.ly/plotly-latest.min']},});if(!window.Plotly) {{require(['plotly'],function(plotly) {window.Plotly=plotly;});}}</script>"
      ],
      "text/vnd.plotly.v1+html": [
       "<script>requirejs.config({paths: { 'plotly': ['https://cdn.plot.ly/plotly-latest.min']},});if(!window.Plotly) {{require(['plotly'],function(plotly) {window.Plotly=plotly;});}}</script>"
      ]
     },
     "metadata": {},
     "output_type": "display_data"
    },
    {
     "data": {
      "text/plain": [
       "0"
      ]
     },
     "execution_count": 1,
     "metadata": {},
     "output_type": "execute_result"
    }
   ],
   "source": [
    "from keras.models import Sequential\n",
    "from keras.layers import Dense, Activation, BatchNormalization, Dropout\n",
    "from keras import optimizers\n",
    "from keras import backend as K\n",
    "from keras.utils import to_categorical\n",
    "from sklearn.preprocessing import LabelEncoder\n",
    "from sklearn.model_selection import train_test_split\n",
    "from sklearn.preprocessing import StandardScaler\n",
    "from sklearn.decomposition import PCA\n",
    "import gc\n",
    "import glob\n",
    "import tensorflow as tf \n",
    "import pcap_processor\n",
    "import numpy as np\n",
    "import pandas as pd\n",
    "import cic_2017_setup\n",
    "import cic_2018_setup\n",
    "\n",
    "gc.collect()"
   ]
  },
  {
   "cell_type": "code",
   "execution_count": 2,
   "metadata": {
    "scrolled": true
   },
   "outputs": [
    {
     "name": "stderr",
     "output_type": "stream",
     "text": [
      "/Users/kyletopasna/anaconda/lib/python3.6/site-packages/IPython/core/interactiveshell.py:2821: DtypeWarning:\n",
      "\n",
      "Columns (14) have mixed types. Specify dtype option on import or set low_memory=False.\n",
      "\n",
      "/Users/kyletopasna/anaconda/lib/python3.6/site-packages/IPython/core/interactiveshell.py:2821: DtypeWarning:\n",
      "\n",
      "Columns (14,15) have mixed types. Specify dtype option on import or set low_memory=False.\n",
      "\n"
     ]
    }
   ],
   "source": [
    "full_data, training_data = cic_2017_setup.setup()"
   ]
  },
  {
   "cell_type": "code",
   "execution_count": 3,
   "metadata": {
    "collapsed": true
   },
   "outputs": [],
   "source": [
    "#one hot encode labels\n",
    "def one_hot_encode_malicious_type(labels):\n",
    "    labelencoder = LabelEncoder()\n",
    "    y_labels_as_int_list = []\n",
    "    for label in labels:\n",
    "        if label == \"Infiltration\":\n",
    "            y_labels_as_int_list.append(1)\n",
    "        elif label == \"DoS Hulk\":\n",
    "            y_labels_as_int_list.append(2)\n",
    "        elif label == \"DDoS\":\n",
    "            y_labels_as_int_list.append(3)\n",
    "        elif label == \"DoS GoldenEye\":\n",
    "            y_labels_as_int_list.append(4)\n",
    "        elif label == \"FTP-Patator\":\n",
    "            y_labels_as_int_list.append(5)\n",
    "        elif label == \"SSH-Patator\":\n",
    "            y_labels_as_int_list.append(6)\n",
    "        elif label == \"DoS slowloris\":\n",
    "            y_labels_as_int_list.append(7)\n",
    "        elif label == \"DoS Slowhttptest\":\n",
    "            y_labels_as_int_list.append(8)\n",
    "        elif label == \"Bot\":\n",
    "            y_labels_as_int_list.append(9)\n",
    "        elif label == \"Web Attack � Brute Force\":\n",
    "            y_labels_as_int_list.append(10)\n",
    "        elif label == \"Web Attack � XSS\":\n",
    "            y_labels_as_int_list.append(11)\n",
    "        elif label == \"Web Attack � Sql Injection \":\n",
    "            y_labels_as_int_list.append(12)\n",
    "        elif label == \"Heartbleed\":\n",
    "            y_labels_as_int_list.append(13)   \n",
    "        else:\n",
    "            y_labels_as_int_list.append(0)\n",
    "    y_labels_encoded = to_categorical(y_labels_as_int_list)\n",
    "    #y_labels_encoded = labelencoder.fit_transform(y_labels_as_int_list)\n",
    "    return y_labels_encoded\n",
    "\n",
    "def one_hot_encode_class_type(labels):\n",
    "    labelencoder = LabelEncoder()\n",
    "    y_labels_as_int_list = []\n",
    "    for label in labels:\n",
    "        if label != \"BENIGN\":\n",
    "            y_labels_as_int_list.append(1)\n",
    "        else:\n",
    "            y_labels_as_int_list.append(0)\n",
    "    y_labels_encoded = to_categorical(y_labels_as_int_list)\n",
    "    #_labels_encoded = labelencoder.fit_transform(y_labels_as_int_list)\n",
    "    return y_labels_encoded\n",
    "            "
   ]
  },
  {
   "cell_type": "code",
   "execution_count": 4,
   "metadata": {
    "collapsed": true
   },
   "outputs": [],
   "source": [
    "training_labels = training_data[\"labels\"]\n",
    "training_data = training_data.drop(labels=\"labels\", axis=1)\n",
    "\n",
    "full_labels = full_data[\"labels\"]\n",
    "full_data = full_data.drop(labels=\"labels\", axis=1)"
   ]
  },
  {
   "cell_type": "code",
   "execution_count": 5,
   "metadata": {},
   "outputs": [
    {
     "name": "stderr",
     "output_type": "stream",
     "text": [
      "/Users/kyletopasna/anaconda/lib/python3.6/site-packages/sklearn/preprocessing/data.py:617: DataConversionWarning:\n",
      "\n",
      "Data with input dtype int64, float64 were all converted to float64 by StandardScaler.\n",
      "\n",
      "/Users/kyletopasna/anaconda/lib/python3.6/site-packages/sklearn/base.py:462: DataConversionWarning:\n",
      "\n",
      "Data with input dtype int64, float64 were all converted to float64 by StandardScaler.\n",
      "\n"
     ]
    }
   ],
   "source": [
    "import matplotlib as plt\n",
    "\n",
    "pca_training_labels = training_labels\n",
    "X_std = StandardScaler().fit_transform(training_data)\n",
    "X_std = pd.DataFrame(X_std)\n",
    "pca_training_labels = pca_training_labels.reset_index(drop=True)\n",
    "X_std[\"labels\"] = pca_training_labels\n",
    "X_std.dropna(inplace=True)\n",
    "pca_training_labels = X_std[\"labels\"]\n",
    "X_std.drop(labels=\"labels\", axis=1, inplace=True)"
   ]
  },
  {
   "cell_type": "code",
   "execution_count": 11,
   "metadata": {},
   "outputs": [
    {
     "data": {
      "image/png": "[encoded data removed]",
      "text/plain": [
       "<Figure size 432x288 with 1 Axes>"
      ]
     },
     "metadata": {},
     "output_type": "display_data"
    }
   ],
   "source": [
    "%matplotlib inline\n",
    "import matplotlib.pyplot as plt\n",
    "pca = PCA().fit(X_std)\n",
    "plt.plot(np.cumsum(pca.explained_variance_ratio_))\n",
    "plt.xlabel('number of components')\n",
    "plt.ylabel('cumulative explained variance')\n",
    "plt.show()"
   ]
  },
  {
   "cell_type": "code",
   "execution_count": 12,
   "metadata": {},
   "outputs": [
    {
     "name": "stderr",
     "output_type": "stream",
     "text": [
      "/Users/kyletopasna/anaconda/lib/python3.6/site-packages/sklearn/preprocessing/data.py:617: DataConversionWarning:\n",
      "\n",
      "Data with input dtype int64, float64 were all converted to float64 by StandardScaler.\n",
      "\n",
      "/Users/kyletopasna/anaconda/lib/python3.6/site-packages/sklearn/base.py:462: DataConversionWarning:\n",
      "\n",
      "Data with input dtype int64, float64 were all converted to float64 by StandardScaler.\n",
      "\n"
     ]
    }
   ],
   "source": [
    "#X_std.drop(labels=\"labels\", axis=1, inplace=True)\n",
    "pca_training_labels = training_labels\n",
    "X_std = StandardScaler().fit_transform(training_data)\n",
    "X_std = pd.DataFrame(X_std)\n",
    "pca_training_labels = pca_training_labels.reset_index(drop=True)\n",
    "X_std[\"labels\"] = pca_training_labels\n",
    "X_std.dropna(inplace=True)\n",
    "pca_training_labels = X_std[\"labels\"]\n",
    "X_std.drop(labels=\"labels\", axis=1, inplace=True)\n",
    "sklearn_pca = PCA(n_components=25)\n",
    "pca_training_data = sklearn_pca.fit_transform(X_std)"
   ]
  },
  {
   "cell_type": "code",
   "execution_count": 13,
   "metadata": {},
   "outputs": [
    {
     "data": {
      "text/plain": [
       "(1113631, 25)"
      ]
     },
     "execution_count": 13,
     "metadata": {},
     "output_type": "execute_result"
    }
   ],
   "source": [
    "pca_training_data.shape"
   ]
  },
  {
   "cell_type": "code",
   "execution_count": 14,
   "metadata": {},
   "outputs": [
    {
     "data": {
      "text/plain": [
       "25"
      ]
     },
     "execution_count": 14,
     "metadata": {},
     "output_type": "execute_result"
    }
   ],
   "source": [
    "nn_input_dim = len(pca_training_data[1])\n",
    "nn_input_dim"
   ]
  },
  {
   "cell_type": "code",
   "execution_count": 15,
   "metadata": {
    "collapsed": true
   },
   "outputs": [],
   "source": [
    "neural_network = Sequential()\n",
    "neural_network.add(Dense(32, input_dim=nn_input_dim, activation=\"relu\"))\n",
    "neural_network.add(BatchNormalization())\n",
    "neural_network.add(Dense(64, activation=\"relu\"))\n",
    "neural_network.add(Dropout(.2))\n",
    "neural_network.add(BatchNormalization())\n",
    "neural_network.add(Dense(96, activation=\"relu\"))\n",
    "neural_network.add(Dropout(.2))\n",
    "neural_network.add(BatchNormalization())\n",
    "neural_network.add(Dense(2))\n",
    "neural_network.add(Activation(tf.nn.softmax))"
   ]
  },
  {
   "cell_type": "code",
   "execution_count": 16,
   "metadata": {},
   "outputs": [],
   "source": [
    "def focal_loss(y_true, y_pred):\n",
    "    gamma = 2.0\n",
    "    alpha = 0.25\n",
    "    pt_1 = tf.where(tf.equal(y_true, 1), y_pred, tf.ones_like(y_pred))\n",
    "    pt_0 = tf.where(tf.equal(y_true, 0), y_pred, tf.zeros_like(y_pred))\n",
    "    return -K.sum(alpha * K.pow(1. - pt_1, gamma) * K.log(pt_1))-K.sum((1-alpha) * K.pow( pt_0, gamma) * K.log(1. - pt_0))\n",
    "\n",
    "\n",
    "\n",
    "\n",
    "optimizer = optimizers.Adam(lr=0.0001, beta_1=0.9, beta_2=0.999, epsilon=None, decay=0.0, amsgrad=False)\n",
    "neural_network.compile(loss=\"categorical_crossentropy\", optimizer=optimizer, metrics=[\"accuracy\"])"
   ]
  },
  {
   "cell_type": "code",
   "execution_count": 17,
   "metadata": {},
   "outputs": [
    {
     "name": "stdout",
     "output_type": "stream",
     "text": [
      "_________________________________________________________________\n",
      "Layer (type)                 Output Shape              Param #   \n",
      "=================================================================\n",
      "dense_1 (Dense)              (None, 32)                832       \n",
      "_________________________________________________________________\n",
      "batch_normalization_1 (Batch (None, 32)                128       \n",
      "_________________________________________________________________\n",
      "dense_2 (Dense)              (None, 64)                2112      \n",
      "_________________________________________________________________\n",
      "dropout_1 (Dropout)          (None, 64)                0         \n",
      "_________________________________________________________________\n",
      "batch_normalization_2 (Batch (None, 64)                256       \n",
      "_________________________________________________________________\n",
      "dense_3 (Dense)              (None, 96)                6240      \n",
      "_________________________________________________________________\n",
      "dropout_2 (Dropout)          (None, 96)                0         \n",
      "_________________________________________________________________\n",
      "batch_normalization_3 (Batch (None, 96)                384       \n",
      "_________________________________________________________________\n",
      "dense_4 (Dense)              (None, 2)                 194       \n",
      "_________________________________________________________________\n",
      "activation_1 (Activation)    (None, 2)                 0         \n",
      "=================================================================\n",
      "Total params: 10,146\n",
      "Trainable params: 9,762\n",
      "Non-trainable params: 384\n",
      "_________________________________________________________________\n"
     ]
    }
   ],
   "source": [
    "neural_network.summary()"
   ]
  },
  {
   "cell_type": "code",
   "execution_count": 18,
   "metadata": {
    "collapsed": true
   },
   "outputs": [],
   "source": [
    "def training_kfold(x, y, neural_network, n=5, epochs=10, batch_size=512, shuffle=True, random_state=None):\n",
    "    \n",
    "    from sklearn.model_selection import StratifiedKFold\n",
    "\n",
    "    kfold = StratifiedKFold(n_splits=n, shuffle=True, random_state = random_state)\n",
    "    cvscores = []\n",
    "    \n",
    "    for train, test in kfold.split(x, y):\n",
    "    \n",
    "        y_labels_encoded = one_hot_encode_class_type(y)\n",
    "        neural_network.model.fit(x.iloc[train], y_labels_encoded[train], epochs=epochs, batch_size=batch_size)\n",
    "        scores = neural_network.evaluate(x.iloc[test], y_labels_encoded[test])\n",
    "        print(\"%s: %.2f%%\" % (neural_network.metrics_names[1], scores[1]*100))\n",
    "        cvscores.append(scores[1] * 100)\n",
    "    print(cvscores)\n",
    "    return neural_network\n",
    "\n",
    "def training_standard(x, y, neural_network, epochs=10, batch_size=512):\n",
    "    '''\n",
    "    class_weight = {0: 1,\n",
    "                    1: 50,\n",
    "                    2: 50,\n",
    "                    3: 50,\n",
    "                    4: 50,\n",
    "                    5: 50,\n",
    "                    6: 50,\n",
    "                    7: 50,\n",
    "                    8: 50,\n",
    "                    9: 50,\n",
    "                    10: 50,\n",
    "                    11: 50,\n",
    "                    12: 50,\n",
    "                    13: 50,\n",
    "                    14: 50,\n",
    "                    15: 50}\n",
    "    '''\n",
    "    #class_weight = {[1,0]: 1,\n",
    "    #                [0,1]: 100}\n",
    "    \n",
    "    #normalize x\n",
    "    #x = (x - x.mean()) / (x.max() - x.min())\n",
    "    y_labels_encoded = one_hot_encode_class_type(y)\n",
    "    neural_network.model.fit(x, y_labels_encoded, epochs=epochs, batch_size=batch_size, shuffle=True)\n",
    "    return neural_network"
   ]
  },
  {
   "cell_type": "markdown",
   "metadata": {},
   "source": [
    "- Combine lables and data dataframes\n",
    "- Save all maclicious traffic to maclicious_traffic\n",
    "- Drop non-benign traffic from data\n",
    "- Append 2/3 of random benign samples to training_data\n",
    "- Train on training_data"
   ]
  },
  {
   "cell_type": "code",
   "execution_count": 19,
   "metadata": {
    "scrolled": true
   },
   "outputs": [
    {
     "name": "stdout",
     "output_type": "stream",
     "text": [
      "Epoch 1/15\n",
      "1113631/1113631 [==============================] - 112s 101us/step - loss: 0.1651 - acc: 0.9368\n",
      "Epoch 2/15\n",
      "1113631/1113631 [==============================] - 112s 100us/step - loss: 0.1100 - acc: 0.9598\n",
      "Epoch 3/15\n",
      "1113631/1113631 [==============================] - 108s 97us/step - loss: 0.0947 - acc: 0.9664\n",
      "Epoch 4/15\n",
      "1113631/1113631 [==============================] - 121s 109us/step - loss: 0.0859 - acc: 0.9696\n",
      "Epoch 5/15\n",
      "1113631/1113631 [==============================] - 112s 101us/step - loss: 0.0801 - acc: 0.9719\n",
      "Epoch 6/15\n",
      "1113631/1113631 [==============================] - 107s 96us/step - loss: 0.0760 - acc: 0.9734\n",
      "Epoch 7/15\n",
      "1113631/1113631 [==============================] - 106s 95us/step - loss: 0.0728 - acc: 0.9748\n",
      "Epoch 8/15\n",
      "1113631/1113631 [==============================] - 105s 94us/step - loss: 0.0702 - acc: 0.9756\n",
      "Epoch 9/15\n",
      "1113631/1113631 [==============================] - 105s 94us/step - loss: 0.0675 - acc: 0.9766\n",
      "Epoch 10/15\n",
      "1113631/1113631 [==============================] - 108s 97us/step - loss: 0.0659 - acc: 0.9772\n",
      "Epoch 11/15\n",
      "1113631/1113631 [==============================] - 116s 104us/step - loss: 0.0643 - acc: 0.9778\n",
      "Epoch 12/15\n",
      "1113631/1113631 [==============================] - 104s 93us/step - loss: 0.0625 - acc: 0.9784\n",
      "Epoch 13/15\n",
      "1113631/1113631 [==============================] - 113s 101us/step - loss: 0.0612 - acc: 0.9788\n",
      "Epoch 14/15\n",
      "1113631/1113631 [==============================] - 106s 96us/step - loss: 0.0603 - acc: 0.9792\n",
      "Epoch 15/15\n",
      "1113631/1113631 [==============================] - 115s 103us/step - loss: 0.0593 - acc: 0.9797\n"
     ]
    }
   ],
   "source": [
    "neural_network = training_standard(pca_training_data, pca_training_labels, neural_network, epochs=15, batch_size=64)"
   ]
  },
  {
   "cell_type": "code",
   "execution_count": 20,
   "metadata": {},
   "outputs": [
    {
     "name": "stdout",
     "output_type": "stream",
     "text": [
      "1113631/1113631 [==============================] - 29s 26us/step\n"
     ]
    },
    {
     "data": {
      "text/plain": [
       "[0.10119423111870308, 0.963205047272486]"
      ]
     },
     "execution_count": 20,
     "metadata": {},
     "output_type": "execute_result"
    }
   ],
   "source": [
    "neural_network.evaluate(x=pca_training_data, y=one_hot_encode_class_type(pca_training_labels), batch_size=128)"
   ]
  },
  {
   "cell_type": "code",
   "execution_count": 21,
   "metadata": {
    "collapsed": true
   },
   "outputs": [],
   "source": [
    "def pca_reduce(_data):\n",
    "\n",
    "    _X_std = StandardScaler().fit_transform(_data)\n",
    "    _X_std = pd.DataFrame(_X_std)\n",
    "    _sklearn_pca = PCA(n_components=5)\n",
    "    _pca_data = _sklearn_pca.fit_transform(_X_std)\n",
    "    return _pca_data"
   ]
  },
  {
   "cell_type": "code",
   "execution_count": 22,
   "metadata": {
    "collapsed": true
   },
   "outputs": [],
   "source": [
    "y_predictions = neural_network.predict(pca_training_data)\n",
    "y_labels_encoded = one_hot_encode_class_type(pca_training_labels)"
   ]
  },
  {
   "cell_type": "code",
   "execution_count": 23,
   "metadata": {},
   "outputs": [],
   "source": [
    "from sklearn import metrics\n",
    "\n",
    "y_category_labels = []\n",
    "y_category_predictions = []\n",
    "\n",
    "for predictions in y_predictions:\n",
    "    if predictions[0] > predictions[1]:\n",
    "        y_category_predictions.append(0)\n",
    "    else:\n",
    "        y_category_predictions.append(1)\n",
    "        \n",
    "for label in y_labels_encoded:\n",
    "    if label[0] == 1:\n",
    "        y_category_labels.append(0)\n",
    "    else:\n",
    "        y_category_labels.append(1)\n",
    "\n",
    "        \n",
    "cm = metrics.confusion_matrix(y_category_labels, y_category_predictions)"
   ]
  },
  {
   "cell_type": "code",
   "execution_count": 24,
   "metadata": {
    "collapsed": true
   },
   "outputs": [],
   "source": [
    "def plot_confusion_matrix(cm,\n",
    "                          target_names,\n",
    "                          title='Confusion matrix',\n",
    "                          cmap=None,\n",
    "                          normalize=True):\n",
    "    \"\"\"\n",
    "    given a sklearn confusion matrix (cm), make a nice plot\n",
    "\n",
    "    Arguments\n",
    "    ---------\n",
    "    cm:           confusion matrix from sklearn.metrics.confusion_matrix\n",
    "\n",
    "    target_names: given classification classes such as [0, 1, 2]\n",
    "                  the class names, for example: ['high', 'medium', 'low']\n",
    "\n",
    "    title:        the text to display at the top of the matrix\n",
    "\n",
    "    cmap:         the gradient of the values displayed from matplotlib.pyplot.cm\n",
    "                  see http://matplotlib.org/examples/color/colormaps_reference.html\n",
    "                  plt.get_cmap('jet') or plt.cm.Blues\n",
    "\n",
    "    normalize:    If False, plot the raw numbers\n",
    "                  If True, plot the proportions\n",
    "\n",
    "    Usage\n",
    "    -----\n",
    "    plot_confusion_matrix(cm           = cm,                  # confusion matrix created by\n",
    "                                                              # sklearn.metrics.confusion_matrix\n",
    "                          normalize    = True,                # show proportions\n",
    "                          target_names = y_labels_vals,       # list of names of the classes\n",
    "                          title        = best_estimator_name) # title of graph\n",
    "\n",
    "    Citiation\n",
    "    ---------\n",
    "    http://scikit-learn.org/stable/auto_examples/model_selection/plot_confusion_matrix.html\n",
    "\n",
    "    \"\"\"\n",
    "    import matplotlib.pyplot as plt\n",
    "    import numpy as np\n",
    "    import itertools\n",
    "\n",
    "    accuracy = np.trace(cm) / float(np.sum(cm))\n",
    "    misclass = 1 - accuracy\n",
    "\n",
    "    if cmap is None:\n",
    "        cmap = plt.get_cmap('Blues')\n",
    "\n",
    "    plt.figure(figsize=(8, 6))\n",
    "    plt.imshow(cm, interpolation='nearest', cmap=cmap)\n",
    "    plt.title(title)\n",
    "    plt.colorbar()\n",
    "\n",
    "    if target_names is not None:\n",
    "        tick_marks = np.arange(len(target_names))\n",
    "        plt.xticks(tick_marks, target_names, rotation=45)\n",
    "        plt.yticks(tick_marks, target_names)\n",
    "\n",
    "    if normalize:\n",
    "        cm = cm.astype('float') / cm.sum(axis=1)[:, np.newaxis]\n",
    "\n",
    "\n",
    "    thresh = cm.max() / 1.5 if normalize else cm.max() / 2\n",
    "    for i, j in itertools.product(range(cm.shape[0]), range(cm.shape[1])):\n",
    "        if normalize:\n",
    "            plt.text(j, i, \"{:0.4f}\".format(cm[i, j]),\n",
    "                     horizontalalignment=\"center\",\n",
    "                     color=\"white\" if cm[i, j] > thresh else \"black\")\n",
    "        else:\n",
    "            plt.text(j, i, \"{:,}\".format(cm[i, j]),\n",
    "                     horizontalalignment=\"center\",\n",
    "                     color=\"white\" if cm[i, j] > thresh else \"black\")\n",
    "\n",
    "\n",
    "    plt.tight_layout()\n",
    "    plt.ylabel('True label')\n",
    "    plt.xlabel('Predicted label\\naccuracy={:0.4f}; misclass={:0.4f}'.format(accuracy, misclass))\n",
    "    plt.show()"
   ]
  },
  {
   "cell_type": "code",
   "execution_count": 25,
   "metadata": {},
   "outputs": [
    {
     "data": {
      "image/png": "[encoded data removed]",
      "text/plain": [
       "<Figure size 576x432 with 2 Axes>"
      ]
     },
     "metadata": {},
     "output_type": "display_data"
    }
   ],
   "source": [
    "plot_confusion_matrix(cm, target_names = [\"Benign\", \"Anomaly\"], normalize=False)"
   ]
  },
  {
   "cell_type": "code",
   "execution_count": 27,
   "metadata": {},
   "outputs": [
    {
     "name": "stderr",
     "output_type": "stream",
     "text": [
      "/Users/kyletopasna/anaconda/lib/python3.6/site-packages/sklearn/preprocessing/data.py:617: DataConversionWarning:\n",
      "\n",
      "Data with input dtype int64, float64 were all converted to float64 by StandardScaler.\n",
      "\n",
      "/Users/kyletopasna/anaconda/lib/python3.6/site-packages/sklearn/base.py:462: DataConversionWarning:\n",
      "\n",
      "Data with input dtype int64, float64 were all converted to float64 by StandardScaler.\n",
      "\n"
     ]
    }
   ],
   "source": [
    "gc.collect()\n",
    "pca_full_labels = full_labels\n",
    "X_std = StandardScaler().fit_transform(full_data)\n",
    "X_std = pd.DataFrame(X_std)\n",
    "pca_full_labels = pca_full_labels.reset_index(drop=True)\n",
    "X_std[\"labels\"] = pca_full_labels\n",
    "X_std.dropna(inplace=True)\n",
    "pca_full_labels = X_std[\"labels\"]\n",
    "X_std.drop(labels=\"labels\", axis=1, inplace=True)\n",
    "sklearn_pca = PCA(n_components=25)\n",
    "pca_full_data = sklearn_pca.fit_transform(X_std)"
   ]
  },
  {
   "cell_type": "code",
   "execution_count": 28,
   "metadata": {},
   "outputs": [
    {
     "data": {
      "image/png": "[encoded data removed]",
      "text/plain": [
       "<Figure size 576x432 with 2 Axes>"
      ]
     },
     "metadata": {},
     "output_type": "display_data"
    }
   ],
   "source": [
    "y_predictions = neural_network.predict(pca_full_data)\n",
    "y_labels_encoded = one_hot_encode_class_type(pca_full_labels)\n",
    "\n",
    "from sklearn import metrics\n",
    "\n",
    "y_category_labels = []\n",
    "y_category_predictions = []\n",
    "\n",
    "for predictions in y_predictions:\n",
    "    if predictions[0] > predictions[1]:\n",
    "        y_category_predictions.append(0)\n",
    "    else:\n",
    "        y_category_predictions.append(1)\n",
    "        \n",
    "for label in y_labels_encoded:\n",
    "    if label[0] == 1:\n",
    "        y_category_labels.append(0)\n",
    "    else:\n",
    "        y_category_labels.append(1)\n",
    "\n",
    "        \n",
    "cm = metrics.confusion_matrix(y_category_labels, y_category_predictions)\n",
    "\n",
    "plot_confusion_matrix(cm, target_names = [\"Benign\", \"Anomaly\"], normalize=False)"
   ]
  },
  {
   "cell_type": "code",
   "execution_count": 30,
   "metadata": {},
   "outputs": [],
   "source": [
    "neural_network.save('artemis_pca_25.h5')"
   ]
  },
  {
   "cell_type": "code",
   "execution_count": null,
   "metadata": {
    "collapsed": true
   },
   "outputs": [],
   "source": []
  }
 ],
 "metadata": {
  "kernelspec": {
   "display_name": "Python [default]",
   "language": "python",
   "name": "python3"
  },
  "language_info": {
   "codemirror_mode": {
    "name": "ipython",
    "version": 3
   },
   "file_extension": ".py",
   "mimetype": "text/x-python",
   "name": "python",
   "nbconvert_exporter": "python",
   "pygments_lexer": "ipython3",
   "version": "3.6.1"
  }
 },
 "nbformat": 4,
 "nbformat_minor": 2
}
